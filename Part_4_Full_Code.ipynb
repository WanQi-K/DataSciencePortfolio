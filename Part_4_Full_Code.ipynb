{
  "cells": [
    {
      "cell_type": "markdown",
      "metadata": {
        "id": "view-in-github",
        "colab_type": "text"
      },
      "source": [
        "<a href=\"https://colab.research.google.com/github/WanQi-K/DataSciencePortfolio/blob/main/Part_4_Full_Code.ipynb\" target=\"_parent\"><img src=\"https://colab.research.google.com/assets/colab-badge.svg\" alt=\"Open In Colab\"/></a>"
      ]
    },
    {
      "cell_type": "markdown",
      "id": "08acfbbd-e92c-4ada-882d-f1149ff0c59b",
      "metadata": {
        "id": "08acfbbd-e92c-4ada-882d-f1149ff0c59b"
      },
      "source": [
        "# Comparison against the Actual Listing Price on Property Guru"
      ]
    },
    {
      "cell_type": "code",
      "execution_count": null,
      "id": "b32723cd-b5e6-4710-80c3-3a164390f776",
      "metadata": {
        "id": "b32723cd-b5e6-4710-80c3-3a164390f776"
      },
      "outputs": [],
      "source": [
        "import numpy as np\n",
        "import pandas as pd\n",
        "import scipy\n",
        "import statsmodels.api as sm\n",
        "import matplotlib.pyplot as plt\n",
        "import seaborn as sns\n",
        "import sklearn\n",
        "sns.set()\n",
        "\n",
        "#Load Data\n",
        "filepath=r'C:\\Users\\Wan Qi\\Desktop\\2024\\05 l Data Science Projects\\MY Property\\NAPIC Selected Data.csv'\n",
        "df=pd.read_csv(filepath)\n",
        "\n",
        "#Clean Data\n",
        "#Clean up column names (removing any leading/trailing spaces)\n",
        "df.columns=df.columns.str.strip()\n",
        "\n",
        "#Transform into Date\n",
        "df['Transaction Date']=pd.to_datetime(df['Month, Year of Transaction Date'],format='%b-%y')\n",
        "\n",
        "#Remove RM and , in Transaction Price\n",
        "df['Transaction Price']=df['Transaction Price'].str.replace('RM','',regex=False)\n",
        "\n",
        "# Remove \"RM\", commas, and whitespace from the Transaction Price column\n",
        "df['Transaction Price'] = df['Transaction Price'].str.replace('RM', '', regex=False)\n",
        "df['Transaction Price']=df['Transaction Price'].str.replace(',','',regex=False)\n",
        "df['Transaction Price']=df['Transaction Price'].str.strip().astype(float)\n",
        "\n",
        "#Replace - with 0\n",
        "df['Main Floor Area']=df['Main Floor Area'].str.replace('-','',regex=False)\n",
        "df['Unit']=df['Unit'].str.replace('-','',regex=False)\n",
        "\n",
        "#Drop unncessary columns\n",
        "df.drop(columns='Month, Year of Transaction Date',inplace=True)\n",
        "df.drop(columns='Land/Parcel Area',inplace=True)\n",
        "df.drop(columns='Unit Metrics',inplace=True)\n",
        "df.drop(columns='Main Floor Area',inplace=True)\n",
        "df.drop(columns='Unit',inplace=True)\n",
        "\n",
        "#Change Unit Level into numeric\n",
        "df['Unit Level'].str.strip()\n",
        "df['Unit Level']=df['Unit Level'].str.replace('A','',regex=False)\n",
        "df['Unit Level']=df['Unit Level'].str.replace('UG','1',regex=False)\n",
        "df['Unit Level']=df['Unit Level'].str.replace('P','100',regex=False)\n",
        "\n",
        "# Replace both empty strings and NaN values with 0\n",
        "df['Unit Level'] = df['Unit Level'].replace('', 0).fillna(0)\n",
        "\n",
        "# Convert 'Unit Level' to numeric after replacements\n",
        "df['Unit Level'] = pd.to_numeric(df['Unit Level'], errors='coerce')\n",
        "\n",
        "#Identify PSF\n",
        "df['PSF']=df['Transaction Price']/df['Square Feet']\n",
        "\n",
        "#Extract Month & Date\n",
        "df['Year']=pd.to_datetime(df['Transaction Date']).dt.year\n",
        "df['Month']=pd.to_datetime(df['Transaction Date']).dt.month\n",
        "\n",
        "#Analysing Indera Subang\n",
        "InderaSubang_data=df[df['Scheme Name/Area']==\"INDERA SUBANG KONDOMINIUM - USJ 6\"]\n",
        "\n",
        "df.sort_values(by='Transaction Date',ascending=True, inplace=True)"
      ]
    },
    {
      "cell_type": "code",
      "execution_count": null,
      "id": "11b91f8c-6bd4-49f8-bc08-2f65749d58ce",
      "metadata": {
        "id": "11b91f8c-6bd4-49f8-bc08-2f65749d58ce",
        "outputId": "07900ae9-c2d3-45fb-c269-47c46974a286"
      },
      "outputs": [
        {
          "name": "stdout",
          "output_type": "stream",
          "text": [
            "Predicted Price for 1711 square feet on Level 8: RM 695,633\n",
            "90% Confidence Interval: RM 672,433 - RM 718,833\n"
          ]
        }
      ],
      "source": [
        "#Price Prediction\n",
        "import pandas as pd\n",
        "import numpy as np\n",
        "from sklearn.linear_model import LinearRegression\n",
        "from sklearn.model_selection import train_test_split\n",
        "from scipy.stats import t\n",
        "\n",
        "# Add 'Level' feature to the data\n",
        "# Split data with and without 'Level' feature\n",
        "X_with_level = InderaSubang_data[[\"Square Feet\", \"Unit Level\"]]\n",
        "y = InderaSubang_data[\"Transaction Price\"]\n",
        "\n",
        "# Train-Test Split for both scenarios\n",
        "X_train_with, X_test_with, y_train_with, y_test_with = train_test_split(X_with_level, y, test_size=0.2, random_state=42)\n",
        "\n",
        "# Train models\n",
        "model_with_level = LinearRegression()\n",
        "model_with_level.fit(X_train_with, y_train_with)\n",
        "\n",
        "def predict_price_ci_with_level(square_feet, level, model, SE, t_critical):\n",
        "    example_input = pd.DataFrame({'Square Feet': [square_feet], 'Unit Level': [level]})\n",
        "    predicted_price = model.predict(example_input)[0]\n",
        "\n",
        "    # Confidence Interval\n",
        "    margin_of_error = t_critical * SE\n",
        "    lower_bound = predicted_price - margin_of_error\n",
        "    upper_bound = predicted_price + margin_of_error\n",
        "\n",
        "    return predicted_price, lower_bound, upper_bound\n",
        "\n",
        "# Add 'Level' to confidence interval calculations\n",
        "confidence_level = 0.90  # 90% CI\n",
        "residuals_with_level = y_train_with - model_with_level.predict(X_train_with)\n",
        "std_residuals_with_level = np.std(residuals_with_level)\n",
        "N_with_level = len(y_train_with)\n",
        "SE_with_level = std_residuals_with_level / np.sqrt(N_with_level)\n",
        "t_critical_with_level = t.ppf((1 + confidence_level) / 2, N_with_level - 2)\n",
        "\n",
        "# Example prediction with 'Level'\n",
        "square_feet = 1711 #Input Square Feet\n",
        "level = 8  # Input level\n",
        "predicted_price_with_level, lower_bound_with_level, upper_bound_with_level = predict_price_ci_with_level(\n",
        "    square_feet, level, model_with_level, SE_with_level, t_critical_with_level\n",
        ")\n",
        "\n",
        "# Display results\n",
        "print(f\"Predicted Price for {square_feet} square feet on Level {level}: RM {predicted_price_with_level:,.0f}\")\n",
        "print(f\"90% Confidence Interval: RM {lower_bound_with_level:,.0f} - RM {upper_bound_with_level:,.0f}\")\n"
      ]
    },
    {
      "cell_type": "code",
      "execution_count": null,
      "id": "2dca8a70-fa68-43a7-85df-415908081c99",
      "metadata": {
        "id": "2dca8a70-fa68-43a7-85df-415908081c99"
      },
      "outputs": [],
      "source": [
        "#Import Another Source (Webscrapping from Property Guru)\n",
        "Actuallisting_filepath=r'C:\\Users\\Wan Qi\\Desktop\\2024\\05 l Data Science Projects\\MY Property\\Property Guru - Indera Subang Listing Data.csv'\n",
        "Actual_Listing_df=pd.read_csv(Actuallisting_filepath)\n",
        "\n",
        "#Transform into Date\n",
        "Actual_Listing_df.columns=Actual_Listing_df.columns.str.strip()"
      ]
    },
    {
      "cell_type": "code",
      "execution_count": null,
      "id": "190e60b4-1a87-46dc-a9f6-18c09d4b4141",
      "metadata": {
        "id": "190e60b4-1a87-46dc-a9f6-18c09d4b4141",
        "outputId": "54cbc28f-8ce0-40a3-cc92-94f95994269b"
      },
      "outputs": [
        {
          "name": "stdout",
          "output_type": "stream",
          "text": [
            "    Listed On  Listed Price  Square Feet  Bedroom  Bathroom  \\\n",
            "13  29-Oct-24        740000         2185        4         4   \n",
            "0   29-Nov-24        720000         1485        4         3   \n",
            "1   26-Nov-24        690000         1537        3         3   \n",
            "2   26-Nov-24        900000         2500        5         5   \n",
            "3   24-Nov-24        720000         1711        3         4   \n",
            "4   16-Nov-24        780000         1776        4         5   \n",
            "5   15-Nov-24        900000         2500        5         5   \n",
            "6    6-Nov-24        750000         1711        3         4   \n",
            "7    6-Nov-24        950000         2500        4         4   \n",
            "8    6-Nov-24        760000         1485        4         4   \n",
            "9    5-Nov-24        690000         1537        4         3   \n",
            "10   5-Nov-24        773000         1776        4         3   \n",
            "11   5-Nov-24        755000         1485        4         3   \n",
            "12   4-Nov-24        890000         2500        5         5   \n",
            "14  17-Oct-24        720000         1780        4         3   \n",
            "15  14-Oct-24        930000         2500        5         5   \n",
            "\n",
            "    Lower Price Range  Upper Price Range Price Category  \n",
            "13      718716.865010      765117.054854   Within Range  \n",
            "0       530761.407987      577161.597831     Overpriced  \n",
            "1       544723.813366      591124.003210     Overpriced  \n",
            "2       803296.820671      849697.010515     Overpriced  \n",
            "3       591444.169826      637844.359670     Overpriced  \n",
            "4       608897.176549      655297.366394     Overpriced  \n",
            "5       803296.820671      849697.010515     Overpriced  \n",
            "6       591444.169826      637844.359670     Overpriced  \n",
            "7       803296.820671      849697.010515     Overpriced  \n",
            "8       530761.407987      577161.597831     Overpriced  \n",
            "9       544723.813366      591124.003210     Overpriced  \n",
            "10      608897.176549      655297.366394     Overpriced  \n",
            "11      530761.407987      577161.597831     Overpriced  \n",
            "12      803296.820671      849697.010515     Overpriced  \n",
            "14      609971.207732      656371.397577     Overpriced  \n",
            "15      803296.820671      849697.010515     Overpriced  \n"
          ]
        }
      ],
      "source": [
        "#Identify if the actual listing price is overpriced, underpriced or within range\n",
        "# Assuming `model`, `SE`, and `t_critical` are already calculated as in the provided snippet.\n",
        "\n",
        "# Function to classify price category\n",
        "def categorize_price(listed_price, lower_bound, upper_bound):\n",
        "    if lower_bound <= listed_price <= upper_bound:\n",
        "        return \"Within Range\"\n",
        "    elif listed_price > upper_bound:\n",
        "        return \"Overpriced\"\n",
        "    else:\n",
        "        return \"Underpriced\"\n",
        "\n",
        "# Apply predictions and confidence intervals to each row in `Actual_Listing_df`\n",
        "def add_price_predictions(df, model_with_level, SE_with_level, t_critical_with_level):\n",
        "    # Initialize new columns\n",
        "    df['Lower Price Range'] = np.nan\n",
        "    df['Upper Price Range'] = np.nan\n",
        "    df['Price Category'] = \"\"\n",
        "\n",
        "    for index, row in df.iterrows():\n",
        "        square_feet = row['Square Feet']\n",
        "        level = row.get('Unit Level', 0)  # Default to 0 if 'Unit Level' is missing\n",
        "        listed_price = row['Listed Price']\n",
        "\n",
        "        # Predict price and confidence interval\n",
        "        predicted_price, lower_bound, upper_bound = predict_price_ci_with_level(\n",
        "            square_feet, level, model_with_level, SE_with_level, t_critical_with_level\n",
        "        )\n",
        "\n",
        "        # Update DataFrame\n",
        "        df.at[index, 'Lower Price Range'] = lower_bound\n",
        "        df.at[index, 'Upper Price Range'] = upper_bound\n",
        "        df.at[index, 'Price Category'] = categorize_price(listed_price, lower_bound, upper_bound)\n",
        "\n",
        "    return df\n",
        "\n",
        "# Add in the additional columns\n",
        "Actual_Listing_df = add_price_predictions(Actual_Listing_df, model_with_level, SE_with_level, t_critical_with_level)\n",
        "\n",
        "# Display the updated DataFrame\n",
        "Actual_Listing_df.sort_values(by='Price Category',ascending=False, inplace=True)\n",
        "print(Actual_Listing_df)"
      ]
    },
    {
      "cell_type": "code",
      "execution_count": null,
      "id": "a0373528-754f-4606-b249-9cea89c34b04",
      "metadata": {
        "id": "a0373528-754f-4606-b249-9cea89c34b04",
        "outputId": "fea27735-a563-495d-9add-9a791e347e4a"
      },
      "outputs": [
        {
          "data": {
            "text/html": [
              "<div>\n",
              "<style scoped>\n",
              "    .dataframe tbody tr th:only-of-type {\n",
              "        vertical-align: middle;\n",
              "    }\n",
              "\n",
              "    .dataframe tbody tr th {\n",
              "        vertical-align: top;\n",
              "    }\n",
              "\n",
              "    .dataframe thead th {\n",
              "        text-align: right;\n",
              "    }\n",
              "</style>\n",
              "<table border=\"1\" class=\"dataframe\">\n",
              "  <thead>\n",
              "    <tr style=\"text-align: right;\">\n",
              "      <th></th>\n",
              "      <th>Price Category</th>\n",
              "      <th>Listing Count</th>\n",
              "      <th>Percentage</th>\n",
              "    </tr>\n",
              "  </thead>\n",
              "  <tbody>\n",
              "    <tr>\n",
              "      <th>0</th>\n",
              "      <td>Overpriced</td>\n",
              "      <td>15</td>\n",
              "      <td>93.75%</td>\n",
              "    </tr>\n",
              "    <tr>\n",
              "      <th>1</th>\n",
              "      <td>Within Range</td>\n",
              "      <td>1</td>\n",
              "      <td>6.25%</td>\n",
              "    </tr>\n",
              "  </tbody>\n",
              "</table>\n",
              "</div>"
            ],
            "text/plain": [
              "  Price Category  Listing Count Percentage\n",
              "0     Overpriced             15     93.75%\n",
              "1   Within Range              1      6.25%"
            ]
          },
          "execution_count": 39,
          "metadata": {},
          "output_type": "execute_result"
        }
      ],
      "source": [
        "#Count by Price Category in Table\n",
        "# Group by the 'Price Category' column and count the number of transaction prices\n",
        "listing_by_category = Actual_Listing_df.groupby('Price Category')['Listed On'].count()\n",
        "\n",
        "# Convert the result to a DataFrame\n",
        "listing_by_category_count_df=listing_by_category.reset_index()\n",
        "\n",
        "# Rename the columns for better readability\n",
        "listing_by_category_count_df.columns=['Price Category','Listing Count']\n",
        "\n",
        "# Calculate the grand total of all listings\n",
        "grand_total = listing_by_category_count_df['Listing Count'].sum()\n",
        "listing_by_category_count_df['Percentage'] = (listing_by_category_count_df['Listing Count'] / grand_total) * 100\n",
        "listing_by_category_count_df['Percentage'] = listing_by_category_count_df['Percentage'].apply(lambda x: f\"{x:.2f}%\")\n",
        "\n",
        "# Display the updated DataFrame\n",
        "listing_by_category_count_df"
      ]
    },
    {
      "cell_type": "code",
      "execution_count": null,
      "id": "2f0d3069-f95b-44b7-b154-58ee7080ef60",
      "metadata": {
        "id": "2f0d3069-f95b-44b7-b154-58ee7080ef60"
      },
      "outputs": [],
      "source": []
    }
  ],
  "metadata": {
    "kernelspec": {
      "display_name": "Python 3 (ipykernel)",
      "language": "python",
      "name": "python3"
    },
    "language_info": {
      "codemirror_mode": {
        "name": "ipython",
        "version": 3
      },
      "file_extension": ".py",
      "mimetype": "text/x-python",
      "name": "python",
      "nbconvert_exporter": "python",
      "pygments_lexer": "ipython3",
      "version": "3.12.4"
    },
    "colab": {
      "provenance": [],
      "include_colab_link": true
    }
  },
  "nbformat": 4,
  "nbformat_minor": 5
}